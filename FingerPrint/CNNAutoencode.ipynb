{
 "cells": [
  {
   "cell_type": "code",
   "execution_count": null,
   "metadata": {},
   "outputs": [],
   "source": [
    "import numpy as np\n",
    "from fuction import *\n",
    "from torch.utils.data import Subset\n",
    "from sklearn.model_selection import train_test_split\n",
    "\n",
    "# Carregar as labels\n",
    "labels_path = \"C:/Users/gubio/Pesquisa/FingerPrint/dataset/label_train.npy\"\n",
    "labels      = np.load(labels_path)\n",
    "labels_subset = labels[:160]\n",
    "\n",
    "# Carregar o dataset completo\n",
    "root_data   = \"C:/Users/gubio/Pesquisa/FingerPrint/dataset/train_data\"\n",
    "dataset= CustomImageDataset(root_dir=root_data, labels=labels_subset)\n",
    "\n",
    "# Dividir o dataset em treino (30%) e teste (70%) de forma estratificada\n",
    "indices = list(range(len(dataset)))\n",
    "\n",
    "train_indices, test_indices = train_test_split(indices, test_size=0.6, stratify=labels_subset)\n",
    "\n",
    "train_dataset = Subset(dataset, train_indices)\n",
    "test_dataset = Subset(dataset, test_indices)\n",
    "\n",
    "train_dataloader = DataLoader(train_dataset, batch_size=16)\n",
    "test_dataloader = DataLoader(test_dataset, batch_size=1)"
   ]
  },
  {
   "cell_type": "code",
   "execution_count": null,
   "metadata": {},
   "outputs": [],
   "source": [
    "\n",
    "device =\"cpu\"\n",
    "# Configurar o modelo\n",
    "model   = FingerEncoder(neck=1).to(device)  # Ajuste o parâmetro 'neck' conforme necessário\n",
    "\n",
    "criterion = nn.BCEWithLogitsLoss()  # nn.L1Loss()#nn.MSELoss()\n",
    "optimizer = tc.optim.Adam(model.parameters(), lr=0.01)\n",
    "scheduler = StepLR(optimizer, step_size=100, gamma=0.9)\n",
    "\n",
    "epochs =100\n",
    "model.train()\n",
    "losses = []\n",
    "for epoch in tqdm(range(epochs)):\n",
    "    for _, (data, label) in enumerate(train_dataloader):\n",
    "        data    = data.to(device)  # Move data to GPU\n",
    "        label   = label.to(device)  # Move data to GPU\n",
    "        optimizer.zero_grad()\n",
    "        \n",
    "        outputs = model(data)\n",
    "        loss    = tc.mean((outputs-label)**2)\n",
    "\n",
    "        loss.backward()\n",
    "        optimizer.step()\n",
    "        scheduler.step()\n",
    "        losses.append(loss.item())\n",
    "plt.plot(losses)\n",
    "plt.yscale(\"log\")\n",
    "plt.show()"
   ]
  },
  {
   "cell_type": "code",
   "execution_count": null,
   "metadata": {},
   "outputs": [],
   "source": [
    "for _, (data, label) in enumerate(test_dataloader):\n",
    "    outputs = model(data)\n",
    "    if (outputs[0]==label[0])==True:\n",
    "        print(1)\n"
   ]
  }
 ],
 "metadata": {
  "kernelspec": {
   "display_name": "Python 3",
   "language": "python",
   "name": "python3"
  },
  "language_info": {
   "codemirror_mode": {
    "name": "ipython",
    "version": 3
   },
   "file_extension": ".py",
   "mimetype": "text/x-python",
   "name": "python",
   "nbconvert_exporter": "python",
   "pygments_lexer": "ipython3",
   "version": "3.11.8"
  }
 },
 "nbformat": 4,
 "nbformat_minor": 2
}
