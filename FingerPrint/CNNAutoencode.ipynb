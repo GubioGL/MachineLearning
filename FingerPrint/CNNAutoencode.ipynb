{
 "cells": [
  {
   "cell_type": "code",
   "execution_count": 11,
   "metadata": {},
   "outputs": [],
   "source": [
    "import numpy as np\n",
    "from fuction import *\n",
    "from torch.utils.data import Subset\n",
    "from sklearn.model_selection import train_test_split\n",
    "\n",
    "# Carregar as labels\n",
    "labels_path = \"C:/Users/Oibug/Desktop/gubio/MachineLearning/FingerPrint/dataset/label_train.npy\"\n",
    "labels      = np.load(labels_path)\n",
    "labels_subset = labels[:160]\n",
    "\n",
    "# Carregar o dataset completo\n",
    "root_data   = \"C:/Users/Oibug/Desktop/gubio/MachineLearning/FingerPrint/dataset/train_data\"\n",
    "dataset= CustomImageDataset(root_dir=root_data, labels=labels_subset)\n",
    "\n",
    "# Dividir o dataset em treino (30%) e teste (70%) de forma estratificada\n",
    "indices = list(range(len(dataset)))\n",
    "\n",
    "train_indices, test_indices = train_test_split(indices, test_size=0.2, stratify=labels_subset)\n",
    "\n",
    "train_dataset = Subset(dataset, train_indices)\n",
    "test_dataset = Subset(dataset, test_indices)\n",
    "\n",
    "train_dataloader = DataLoader(train_dataset, batch_size=30)\n",
    "test_dataloader = DataLoader(test_dataset, batch_size=1)"
   ]
  },
  {
   "cell_type": "code",
   "execution_count": 12,
   "metadata": {},
   "outputs": [
    {
     "name": "stderr",
     "output_type": "stream",
     "text": [
      "100%|██████████| 1000/1000 [02:17<00:00,  7.27it/s]\n"
     ]
    },
    {
     "data": {
      "image/png": "[encoded data removed]",
      "text/plain": [
       "<Figure size 640x480 with 1 Axes>"
      ]
     },
     "metadata": {},
     "output_type": "display_data"
    }
   ],
   "source": [
    "\n",
    "device =\"cuda\"\n",
    "# Configurar o modelo\n",
    "model   = FingerEncoder(neck=1).to(device)  # Ajuste o parâmetro 'neck' conforme necessário\n",
    "\n",
    "criterion = nn.BCEWithLogitsLoss()  # nn.L1Loss()#nn.MSELoss()\n",
    "optimizer = tc.optim.Adam(model.parameters(), lr=0.001)\n",
    "scheduler = StepLR(optimizer, step_size=300, gamma=0.9)\n",
    "\n",
    "epochs =1000\n",
    "model.train()\n",
    "losses = []\n",
    "for epoch in tqdm(range(epochs)):\n",
    "    for _, (data, label) in enumerate(train_dataloader):\n",
    "        data    = data.to(device)  # Move data to GPU\n",
    "        label   = label.to(device)  # Move data to GPU\n",
    "        optimizer.zero_grad()\n",
    "        \n",
    "        outputs = model(data)\n",
    "        loss    = tc.mean((outputs-label)**2)\n",
    "\n",
    "        loss.backward()\n",
    "        optimizer.step()\n",
    "        #scheduler.step()\n",
    "        losses.append(loss.item())\n",
    "plt.plot(losses)\n",
    "plt.yscale(\"log\")\n",
    "plt.show()"
   ]
  },
  {
   "cell_type": "code",
   "execution_count": 21,
   "metadata": {},
   "outputs": [
    {
     "data": {
      "text/plain": [
       "tensor([0.], device='cuda:0', grad_fn=<SubBackward0>)"
      ]
     },
     "execution_count": 21,
     "metadata": {},
     "output_type": "execute_result"
    }
   ],
   "source": [
    "outputs-label"
   ]
  },
  {
   "cell_type": "code",
   "execution_count": 16,
   "metadata": {},
   "outputs": [
    {
     "name": "stdout",
     "output_type": "stream",
     "text": [
      "acerto: 0.28125\n"
     ]
    },
    {
     "data": {
      "text/plain": [
       "9"
      ]
     },
     "execution_count": 16,
     "metadata": {},
     "output_type": "execute_result"
    }
   ],
   "source": [
    "count = 0\n",
    "binario = tc.nn.Threshold(0.5,0)\n",
    "for _, (data, label) in enumerate(test_dataset):\n",
    "    data    = data.to(device)  # Move data to GPU\n",
    "    label   = label.to(device)  # Move data to GPU\n",
    "    outputs = binario(model(data))[0]\n",
    "    if (outputs[0]==label[0])==True:\n",
    "        count+=1\n",
    "print(\"acerto:\",count/len(test_dataset))\n",
    "count"
   ]
  },
  {
   "cell_type": "code",
   "execution_count": 19,
   "metadata": {},
   "outputs": [
    {
     "name": "stdout",
     "output_type": "stream",
     "text": [
      "acerto: 0.5\n"
     ]
    },
    {
     "data": {
      "text/plain": [
       "64"
      ]
     },
     "execution_count": 19,
     "metadata": {},
     "output_type": "execute_result"
    }
   ],
   "source": [
    "count = 0\n",
    "binario = tc.nn.Threshold(0.5,0)\n",
    "conT=0\n",
    "for _, (data, label) in enumerate(train_dataset):\n",
    "    data    = data.to(device)  # Move data to GPU\n",
    "    label   = label.to(device)  # Move data to GPU\n",
    "    outputs = binario(model(data))[0]\n",
    "    conT    +=1\n",
    "    \n",
    "    if (outputs[0]==label[0])==True:\n",
    "        count+=1\n",
    "print(\"acerto:\",count/len(train_dataset))\n",
    "count"
   ]
  },
  {
   "cell_type": "code",
   "execution_count": 20,
   "metadata": {},
   "outputs": [
    {
     "data": {
      "text/plain": [
       "128"
      ]
     },
     "execution_count": 20,
     "metadata": {},
     "output_type": "execute_result"
    }
   ],
   "source": [
    "conT"
   ]
  }
 ],
 "metadata": {
  "kernelspec": {
   "display_name": "Python 3",
   "language": "python",
   "name": "python3"
  },
  "language_info": {
   "codemirror_mode": {
    "name": "ipython",
    "version": 3
   },
   "file_extension": ".py",
   "mimetype": "text/x-python",
   "name": "python",
   "nbconvert_exporter": "python",
   "pygments_lexer": "ipython3",
   "version": "3.10.13"
  }
 },
 "nbformat": 4,
 "nbformat_minor": 2
}
