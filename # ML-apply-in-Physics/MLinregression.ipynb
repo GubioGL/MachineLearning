{
 "cells": [
  {
   "cell_type": "code",
   "execution_count": null,
   "metadata": {},
   "outputs": [],
   "source": [
    "from sklearn import linear_model\n",
    "\n",
    "import matplotlib.pyplot as plt\n",
    "import pandas as pd \n",
    "import numpy as np      \n"
   ]
  },
  {
   "cell_type": "code",
   "execution_count": 1,
   "metadata": {},
   "outputs": [],
   "source": [
    "import matplotlib.pyplot as plt\n",
    "import torch as tc\n",
    "from torch import nn # nn contains all of PyTorch's building blocks for neural networks\n",
    "import numpy as np"
   ]
  },
  {
   "cell_type": "markdown",
   "metadata": {},
   "source": [
    "# v= Constante"
   ]
  },
  {
   "cell_type": "markdown",
   "metadata": {},
   "source": [
    "## ML-std"
   ]
  },
  {
   "cell_type": "code",
   "execution_count": null,
   "metadata": {},
   "outputs": [],
   "source": [
    "def eq_movimento(x_0,v_,t_): \n",
    "    return  x_0 + v_*t_\n",
    "\n",
    "t = np.linspace(0,10)  \n",
    "\n",
    "plt.plot(t,eq_movimento(x_0=0,v_=2,t_=t),\".\")\n",
    "plt.plot(t,eq_movimento(x_0=0,v_=1,t_=t),\".\")\n",
    "plt.plot(t,eq_movimento(x_0=1,v_=1,t_=t),\".\")\n",
    "\n",
    "plt.show()"
   ]
  },
  {
   "cell_type": "code",
   "execution_count": null,
   "metadata": {},
   "outputs": [],
   "source": [
    "t = np.linspace(0,10).reshape((-1, 1))  \n",
    "y = eq_movimento(x_0=0,v_=2,t_=t)\n",
    "\n",
    "reg = linear_model.LinearRegression()\n",
    "reg.fit(t,y)# FITANDO \n",
    "print(\"a: \",reg.coef_)\n",
    "print(\"b: \",reg.intercept_)\n"
   ]
  },
  {
   "cell_type": "code",
   "execution_count": null,
   "metadata": {},
   "outputs": [],
   "source": [
    "from sklearn.tree import DecisionTreeRegressor\n",
    "\n",
    "RT = DecisionTreeRegressor(criterion = \"squared_error\")\n",
    "RT.fit(t,y)# FITANDO \n",
    "\n",
    "t_tes = np.linspace(0,10).reshape((-1, 1))  \n",
    "predição = RT.predict(t_tes)\n",
    "\n",
    "plt.plot(t,y,\"-\")\n",
    "plt.plot(t_tes,predição,\".\")\n",
    "\n",
    "plt.show()"
   ]
  },
  {
   "cell_type": "markdown",
   "metadata": {},
   "source": [
    "## ML-NN"
   ]
  },
  {
   "cell_type": "code",
   "execution_count": null,
   "metadata": {},
   "outputs": [],
   "source": [
    "class Regressao(nn.Module):\n",
    "    def __init__(self,neuronio):\n",
    "        super().__init__()\n",
    "        self.layer_1 = nn.Linear(1,neuronio)\n",
    "        self.layer_3 = nn.Linear(neuronio,1)\n",
    "        self.A_layer = nn.ReLU()\n",
    "\n",
    "    def forward(self, x):\n",
    "        x = self.A_layer(self.layer_1(x))\n",
    "        x = self.A_layer(self.layer_3(x))\n",
    "        return x  "
   ]
  },
  {
   "cell_type": "code",
   "execution_count": null,
   "metadata": {},
   "outputs": [],
   "source": [
    "class Loss_parametro(nn.Module):\n",
    "    def __init__(self):\n",
    "        super(Loss_parametro, self).__init__()\n",
    "    def forward(self, inputs, targets,outputs):\n",
    "        # mudar de [N,1] para [N]\n",
    "        # função 1° grau: x- x0 -vt = 0\n",
    "        funcao_1_grau = targets - targets[0] - outputs*inputs\n",
    "        loss_solution = tc.mean( abs(funcao_1_grau) )\n",
    "        # podemos impor que independe do input o parametro deve ser igual  \n",
    "        # v_medio = output[:,1].mean()\n",
    "        # loss_const = tc.mean((output[:,1] - v_medio) ** 2)\n",
    "        return loss_solution\n",
    "    \n",
    "class Loss_edo(nn.Module):\n",
    "    def __init__(self,rede_neural,velocidade):\n",
    "        super(Loss_edo, self).__init__()\n",
    "        self.rede = rede_neural\n",
    "        self.v = velocidade\n",
    "        \n",
    "    def forward(self, inputs, targets):\n",
    "        output ,derivadas = tc.autograd.functional.jvp(self.rede ,inputs ,v=tc.ones(len(inputs),1),create_graph=True) # v é um vetor unitario para retorna apenas o jacobiano\n",
    "        # condição inicial x(0)\n",
    "        loss_ic = (output[0] - targets[0])**2\n",
    "        \n",
    "        # dividido pela tamanho do dados de entrada\n",
    "        loss_ic = loss_ic/len(inputs)\n",
    "        # Derivada da função em relação a entrada \n",
    "        # edo : dx/dt = v\n",
    "        # estamos usando [1:] para escluir a condição inicial\n",
    "        loss_edo = tc.mean( (derivadas[1:] - self.v )**2 )\n",
    "\n",
    "        return loss_ic + loss_edo"
   ]
  },
  {
   "cell_type": "markdown",
   "metadata": {},
   "source": [
    "Aprendendo a função com a edo "
   ]
  },
  {
   "cell_type": "code",
   "execution_count": null,
   "metadata": {},
   "outputs": [],
   "source": [
    "def eq_movimento(x_0,v_,t_): \n",
    "    return  x_0 + v_*t_\n",
    "\n",
    "# Criando os dados de treino\n",
    "x_train = tc.linspace(0,10,50).reshape(50,1)\n",
    "y_train =  eq_movimento(x_0=0,v_=1,t_=x_train)\n",
    "\n",
    "rede1 = Regressao(20) # rede da função\n",
    "opt1 = tc.optim.Adam(params=rede1.parameters(),lr=0.01)  # rede da função\n",
    "loss_fn1  = Loss_edo(rede1,velocidade=1)\n",
    "\n",
    "epochs = 10000\n",
    "for epoch in range(epochs):\n",
    "    rede1.train()\n",
    "    loss = loss_fn1(x_train, y_train)\n",
    "    opt1.zero_grad()\n",
    "    loss.backward()\n",
    "    opt1.step() \n",
    "\n",
    "#rede 1 é a função\n",
    "loss_fn = nn.MSELoss()\n",
    "rede1.eval()\n",
    "with tc.inference_mode():\n",
    "    prediçao = rede1(x_train)\n",
    "    loss = loss_fn( prediçao,y_train)\n",
    "    print(f\"| Train Loss: {loss} |\")\n",
    "    \n",
    "plt.plot(x_train,y_train,\"k-\" ,label=\"teorico\")\n",
    "plt.plot(x_train, prediçao,\".\",label=\"predição\" )\n",
    "plt.legend()\n",
    "plt.show()  "
   ]
  },
  {
   "cell_type": "markdown",
   "metadata": {},
   "source": [
    "Aprendendo o valor da constante"
   ]
  },
  {
   "cell_type": "code",
   "execution_count": null,
   "metadata": {},
   "outputs": [],
   "source": [
    "def eq_movimento(x_0,v_,t_): \n",
    "    return  x_0 + v_*t_\n",
    "\n",
    "# Criando os dados de treino\n",
    "x_train = tc.linspace(0,10,20).reshape(20,1)\n",
    "y_train =  eq_movimento(x_0=0,v_=1,t_=x_train)\n",
    "\n",
    "\n",
    "rede2 = Regressao(10) # rede dos parametros \n",
    "opt2 = tc.optim.Adam(params=rede2.parameters(),lr=0.01) # rede dos parametros \n",
    "loss_fn2  = Loss_parametro()\n",
    "\n",
    "epochs = 10000\n",
    "for epoch in range(epochs):\n",
    "    rede2.train()\n",
    "    y_preds = rede2(x_train)\n",
    "    loss = loss_fn2(inputs=x_train,targets=y_train, outputs=y_preds)\n",
    "    opt2.zero_grad()\n",
    "    loss.backward()\n",
    "    opt2.step() \n",
    "    \n",
    "    \n",
    "    rede1.train()\n",
    "    loss = loss_fn1(x_train, y_train)\n",
    "    opt1.zero_grad()\n",
    "    loss.backward()\n",
    "    opt1.step() \n",
    "\n",
    "#rede 2 é a parametro\n",
    "loss_fn = nn.MSELoss()\n",
    "rede2.eval()\n",
    "with tc.inference_mode():\n",
    "    prediçao = rede2(x_train)\n",
    "    loss = loss_fn(y_train[0] + prediçao*x_train,y_train)\n",
    "    print(f\"| Train Loss: {loss} |\")\n",
    "    print(prediçao[:5])\n",
    "plt.plot(x_train,y_train,\"k-\" ,label=\"teorico\")\n",
    "plt.plot(x_train,y_train[0] + prediçao*x_train,\".\",label=\"predição\" )\n",
    "plt.show()  "
   ]
  },
  {
   "cell_type": "markdown",
   "metadata": {},
   "source": [
    "# a =Constante"
   ]
  },
  {
   "cell_type": "markdown",
   "metadata": {},
   "source": [
    "## ML-std"
   ]
  },
  {
   "cell_type": "code",
   "execution_count": null,
   "metadata": {},
   "outputs": [],
   "source": [
    "def eq_movimento(x_0,v_,a_,t_):\n",
    "    return  x_0 + v_*t_ + a_*t_**2/2\n",
    "\n",
    "t = np.linspace(0,1.4).reshape((-1, 1))    \n",
    "y = eq_movimento(x_0=10,v_=0,a_=-9.81,t_=t)\n",
    "plt.plot(t,y,\".\")\n",
    "plt.show()"
   ]
  },
  {
   "cell_type": "markdown",
   "metadata": {},
   "source": [
    "Regressão linear"
   ]
  },
  {
   "cell_type": "code",
   "execution_count": null,
   "metadata": {},
   "outputs": [],
   "source": [
    "reg = linear_model.LinearRegression()\n",
    "reg.fit(t,y)# FITANDO \n",
    "print(\"a: \",reg.coef_)\n",
    "print(\"b: \",reg.intercept_)\n",
    "\n",
    "plt.plot(t,y,\".\")\n",
    "plt.plot(t,reg.intercept_[0] + reg.coef_[0][0]*t,\".\")\n",
    "plt.show()"
   ]
  },
  {
   "cell_type": "markdown",
   "metadata": {},
   "source": [
    "Decision tree"
   ]
  },
  {
   "cell_type": "code",
   "execution_count": null,
   "metadata": {},
   "outputs": [],
   "source": [
    "from sklearn.tree import DecisionTreeRegressor\n",
    "\n",
    "RT = DecisionTreeRegressor(criterion = \"squared_error\")\n",
    "RT.fit(t,y)# FITANDO \n",
    "\n",
    "\n",
    "predição = RT.predict(t)\n",
    "\n",
    "plt.plot(t,y,\"-\")\n",
    "plt.plot(t,predição,\".\")\n",
    "\n",
    "plt.show()"
   ]
  },
  {
   "cell_type": "markdown",
   "metadata": {},
   "source": [
    "Regressaõ polinomia "
   ]
  },
  {
   "cell_type": "code",
   "execution_count": null,
   "metadata": {},
   "outputs": [],
   "source": [
    "from sklearn.preprocessing import PolynomialFeatures\n",
    "from sklearn import linear_model\n",
    "\n",
    "poly = PolynomialFeatures(degree=2)\n",
    "\n",
    "t_poly = poly.fit_transform(t)\n",
    "\n",
    "R = linear_model.LinearRegression()\n",
    "train_y_ = R.fit(t_poly, y)\n",
    "# The coefficients\n",
    "print ('Coefficients: ', R.coef_)\n",
    "print ('b: ',R.intercept_)\n",
    "\n",
    "predição = R.intercept_[0]+ R.coef_[0][1]*t+ R.coef_[0][2]*t**2\n",
    "plt.plot(t,y,\"-\")\n",
    "plt.plot(t,predição,\".\")\n",
    "\n",
    "plt.show()"
   ]
  },
  {
   "cell_type": "markdown",
   "metadata": {},
   "source": [
    "## ML-Rede neural "
   ]
  },
  {
   "cell_type": "code",
   "execution_count": 2,
   "metadata": {},
   "outputs": [],
   "source": [
    "class Regressao(nn.Module):\n",
    "    def __init__(self,neuronio):\n",
    "        super().__init__()\n",
    "        self.layer_1 = nn.Linear(1,neuronio)\n",
    "        self.layer_2 = nn.Linear(neuronio,neuronio)\n",
    "        self.layer_3 = nn.Linear(neuronio,1)\n",
    "        self.A_layer = nn.Tanh()\n",
    "\n",
    "    def forward(self, x):\n",
    "        x = self.A_layer(self.layer_1(x))\n",
    "        x = self.A_layer(self.layer_2(x))\n",
    "        x = self.layer_3(x)\n",
    "        return x\n",
    "    \n",
    "class loss_pinn1(nn.Module):\n",
    "    \"\"\"_summary_\n",
    "    Essa loss utiliza a saida da rede neural como uma função quedeve ser solução de uma equação.\n",
    "    Nesse caso é a solução da edo de 2° ordem.\n",
    "    \n",
    "            d^2 x/dt^2 = a\n",
    "    \n",
    "    Será fornecido  o valor de a, condição inicial da posição e velocidade.\n",
    "\n",
    "    Args:\n",
    "        nn (_type_): _description_\n",
    "    \"\"\"\n",
    "    def __init__(self, t, y_true, aceleracao, velocity=None):\n",
    "        super(loss_pinn1,self).__init__()\n",
    "        self.t_ = t\n",
    "        self.v_ = velocity\n",
    "        self.a_ = aceleracao\n",
    "        self.y_true_ = y_true\n",
    "\n",
    "    def forward(self,y_pred):\n",
    "        dydt = tc.autograd.grad(y_pred, self.t_, grad_outputs=tc.ones_like(y_pred), create_graph=True)[0]\n",
    "        d2ydt2 = tc.autograd.grad(dydt, self.t_, grad_outputs=tc.ones_like(y_pred), create_graph=True)[0]\n",
    "        \n",
    "        # Condiçao incial da posição\n",
    "        loss_ic_x0 = (y_pred[0] -self.y_true_[0] )**2\n",
    "        # Condiçao incial da velocidade\n",
    "        loss_ic_v0 = (dydt[0] -self.v_ )**2\n",
    "        \n",
    "        # Edo d^2 x/dt^2 = a\n",
    "        loss_edo_xx = (d2ydt2 - self.a_)**2/len(self.t_)\n",
    "        # Edo dx/dx = a\n",
    "        #loss_edo_x = (dydt - self.a_)**2\n",
    "        return tc.sum(loss_edo_xx) + loss_ic_x0 + loss_ic_v0\n",
    "    \n",
    "class loss_pinn2(nn.Module):\n",
    "    \"\"\"_summary_:\n",
    "    Essa loss utiliza a saida da rede neural como um parâmetro da solução de uma equação.\n",
    "    Nesse caso é a solução da edo de 2° ordem \n",
    "    \n",
    "    -->>>  d^2x/dt^2 = a\n",
    "    -->>> y(t) = x(0) + v(0)*t + at**2/2\n",
    "    \n",
    "    Será fornecido  o valor de cada instante de tempo , valor da posição e velocidade em t = 0.\n",
    "    \"\"\"\n",
    "    def __init__(self,x_0,v_0, y_,t_):\n",
    "        super().__init__()\n",
    "        self.x0 = x_0\n",
    "        self.v0 = v_0\n",
    "        self.true_output = y_\n",
    "        self.tempo = t_\n",
    "        \n",
    "    def forward(self, outputs_p,output_f=0,output_f2 = 0):\n",
    "        # talvez adicionar a derivada \n",
    "        # y  =  x_0 + v_*t_ + a_*t_**2/2\n",
    "        solution = (self.true_output - self.x0 -self.v0*self.tempo - outputs_p*self.tempo**2/2)**2\n",
    "        solution_data =  (self.true_output- output_f)**2\n",
    "        return tc.mean(solution) + tc.mean(solution_data)*output_f2\n"
   ]
  },
  {
   "cell_type": "code",
   "execution_count": 2,
   "metadata": {},
   "outputs": [
    {
     "data": {
      "image/png": "[encoded data removed]",
      "text/plain": [
       "<Figure size 640x480 with 1 Axes>"
      ]
     },
     "metadata": {},
     "output_type": "display_data"
    }
   ],
   "source": [
    "def eq_movimento(x_0,v_,a_,t_):\n",
    "    return  x_0 + v_*t_ + a_*t_**2/2\n",
    "device ='cuda'\n",
    "N=50\n",
    "# Criando os dados de treino\n",
    "x_train = tc.linspace(0,1.4,N,requires_grad=True,device=device).reshape(N,1)\n",
    "y_train =  eq_movimento(x_0=10,v_=0,a_=-9.81,t_=x_train)\n",
    "\n",
    "# Visualizando os dados de treino\n",
    "\n",
    "plt.plot(x_train.cpu().detach().numpy(),y_train.cpu().detach().numpy(),\"k.\" )\n",
    "plt.show()"
   ]
  },
  {
   "cell_type": "markdown",
   "metadata": {},
   "source": [
    "Aprendendo a função com os dados "
   ]
  },
  {
   "cell_type": "code",
   "execution_count": null,
   "metadata": {},
   "outputs": [],
   "source": [
    "model = Regressao(neuronio=20).to(device=device)\n",
    "loss_fn = nn.MSELoss()\n",
    "optimizer = tc.optim.Adam(params=model.parameters(),lr=0.01)\n",
    "\n",
    "epochs = 5000\n",
    "for epoch in range(epochs):\n",
    "    model.train()\n",
    "    y_preds = model(x_train)\n",
    "    loss = loss_fn(y_preds, y_train)\n",
    "    optimizer.zero_grad()\n",
    "    loss.backward(retain_graph=True)\n",
    "    optimizer.step()\n",
    "\n",
    "model.eval()\n",
    "with tc.inference_mode():\n",
    "    y_preds_test = model(x_train)\n",
    "    loss = loss_fn(y_preds_test,y_train)\n",
    "    print(f\"| Train Loss: {loss} | \")\n",
    "\n",
    "plt.plot(x_train.cpu().detach().numpy(),y_train.cpu().detach().numpy(),\"-\")\n",
    "plt.plot(x_train.cpu().detach().numpy(),y_preds_test.cpu().detach().numpy(),\"k.\" )\n",
    "plt.show()"
   ]
  },
  {
   "cell_type": "markdown",
   "metadata": {},
   "source": [
    "aprendendo o parametro da equação(Aceleração)"
   ]
  },
  {
   "cell_type": "code",
   "execution_count": null,
   "metadata": {},
   "outputs": [],
   "source": [
    "model = Regressao(neuronio=5,output=1,activation=\"tanh\",h_layer=True).to(device=device)  \n",
    "loss_fn = loss_pinn2(x_0=10,v_0=0,y_= y_train,t_=x_train)\n",
    "optimizer = tc.optim.Adam(params=model.parameters(),lr=0.01)\n",
    "\n",
    "LOSS = []\n",
    "epochs = 2000\n",
    "for epoch in range(epochs):\n",
    "    model.train()\n",
    "    y_preds = model(x_train)\n",
    "    loss = loss_fn(y_preds[:])\n",
    "    optimizer.zero_grad()\n",
    "    loss.backward(retain_graph=True)\n",
    "    optimizer.step()\n",
    "    LOSS.append(loss.cpu().detach().numpy())\n",
    "\n",
    "model.eval()\n",
    "with tc.inference_mode():\n",
    "    y_preds = model(x_train)\n",
    "    loss = loss_fn(y_preds[0,0],y_preds[:,0],1)\n",
    "    print(f\"| Train Loss: {loss} | \")\n",
    "    \n",
    "x = x_train.cpu().detach().numpy()\n",
    "y = y_train.cpu().detach().numpy()\n",
    "\n",
    "aceleracao = y_preds[0].cpu().detach().numpy()\n",
    "#funcao = y_preds[:,1].cpu().detach().numpy()\n",
    "y_predic = 10 +aceleracao*x**2/2\n",
    "\n",
    "plt.plot(x,y,\"k-\",label=\"teorico\")\n",
    "plt.plot(x,y_predic,\"r--\", label=f\"a:{np.round(aceleracao,decimals=2)}\" )\n",
    "#plt.plot(x,funcao)\n",
    "plt.legend()\n",
    "plt.show()\n",
    "plt.plot(LOSS);plt.show()"
   ]
  },
  {
   "cell_type": "code",
   "execution_count": null,
   "metadata": {},
   "outputs": [],
   "source": [
    "model = Regressao(neuronio=15).to(device)\n",
    "loss_fn = loss_pinn1(x_train, y_train, aceleracao=-9.81, velocity=0.0)\n",
    "optimizer = tc.optim.Adam(params=model.parameters(),lr=0.01)\n",
    "\n",
    "for epoch in range(1000):\n",
    "  model.train()\n",
    "  y_pred  = model(x_train)\n",
    "  loss    = loss_fn(y_pred)\n",
    "  \n",
    "  optimizer.zero_grad()\n",
    "  loss.backward(retain_graph=True)\n",
    "  optimizer.step()\n",
    "\n",
    "x = x_train.cpu().detach().numpy()\n",
    "y = y_train.cpu().detach().numpy()\n",
    "\n",
    "y_pred = model(x_train)\n",
    "y_pred = y_pred.cpu().detach().numpy()\n",
    "\n",
    "\n",
    "fig,ax = plt.subplots(1,2,figsize=(10,4))\n",
    "ax[0].plot(x,y,\"k-\",label=\"teorico\")\n",
    "ax[0].plot(x,y_pred,\"r--\",label=\"rede\")\n",
    "ax[0].legend()\n",
    "ax[0].set_ylabel(\"y(t)\")\n",
    "ax[0].set_xlabel(\"t (time)\")\n",
    "ax[1].plot(LOSS)\n",
    "ax[1].set_xlabel(\"epochs\")\n",
    "plt.show()\n"
   ]
  },
  {
   "cell_type": "code",
   "execution_count": null,
   "metadata": {},
   "outputs": [],
   "source": [
    "#forma de derivar :\n",
    "#model = Regressao(neuronio=10)\n",
    "#derivada = [tc.autograd.functional.hessian(model,i)[0] for i in x_train] # Fuciona\n",
    "#y_preds,derivada =tc.autograd.functional.hvp(model ,x_train[0],create_graph=True,strict=True)  # fuciona\n"
   ]
  }
 ],
 "metadata": {
  "kernelspec": {
   "display_name": "Python 3",
   "language": "python",
   "name": "python3"
  },
  "language_info": {
   "codemirror_mode": {
    "name": "ipython",
    "version": 3
   },
   "file_extension": ".py",
   "mimetype": "text/x-python",
   "name": "python",
   "nbconvert_exporter": "python",
   "pygments_lexer": "ipython3",
   "version": "3.10.13"
  }
 },
 "nbformat": 4,
 "nbformat_minor": 2
}
