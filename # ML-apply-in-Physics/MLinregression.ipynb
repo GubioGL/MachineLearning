{
 "cells": [
  {
   "cell_type": "code",
   "execution_count": null,
   "metadata": {},
   "outputs": [],
   "source": [
    "from sklearn import linear_model\n",
    "\n",
    "import matplotlib.pyplot as plt\n",
    "import pandas as pd \n",
    "import numpy as np      \n"
   ]
  },
  {
   "cell_type": "code",
   "execution_count": 1,
   "metadata": {},
   "outputs": [],
   "source": [
    "import matplotlib.pyplot as plt\n",
    "import torch as tc\n",
    "from torch import nn # nn contains all of PyTorch's building blocks for neural networks\n",
    "import numpy as np"
   ]
  },
  {
   "cell_type": "markdown",
   "metadata": {},
   "source": [
    "# v= Constante"
   ]
  },
  {
   "cell_type": "markdown",
   "metadata": {},
   "source": [
    "## ML"
   ]
  },
  {
   "cell_type": "code",
   "execution_count": null,
   "metadata": {},
   "outputs": [],
   "source": [
    "def eq_movimento(x_0,v_,t_): \n",
    "    return  x_0 + v_*t_\n",
    "\n",
    "t = np.linspace(0,10)  \n",
    "\n",
    "plt.plot(t,eq_movimento(x_0=0,v_=2,t_=t),\".\")\n",
    "plt.plot(t,eq_movimento(x_0=0,v_=1,t_=t),\".\")\n",
    "plt.plot(t,eq_movimento(x_0=1,v_=1,t_=t),\".\")\n",
    "\n",
    "plt.show()"
   ]
  },
  {
   "cell_type": "code",
   "execution_count": null,
   "metadata": {},
   "outputs": [],
   "source": [
    "t = np.linspace(0,10).reshape((-1, 1))  \n",
    "y = eq_movimento(x_0=0,v_=2,t_=t)\n",
    "\n",
    "reg = linear_model.LinearRegression()\n",
    "reg.fit(t,y)# FITANDO \n",
    "print(\"a: \",reg.coef_)\n",
    "print(\"b: \",reg.intercept_)\n"
   ]
  },
  {
   "cell_type": "code",
   "execution_count": null,
   "metadata": {},
   "outputs": [],
   "source": [
    "from sklearn.tree import DecisionTreeRegressor\n",
    "\n",
    "RT = DecisionTreeRegressor(criterion = \"squared_error\")\n",
    "RT.fit(t,y)# FITANDO \n",
    "\n",
    "t_tes = np.linspace(0,10).reshape((-1, 1))  \n",
    "predição = RT.predict(t_tes)\n",
    "\n",
    "plt.plot(t,y,\"-\")\n",
    "plt.plot(t_tes,predição,\".\")\n",
    "\n",
    "plt.show()"
   ]
  },
  {
   "cell_type": "markdown",
   "metadata": {},
   "source": [
    "## NN"
   ]
  },
  {
   "cell_type": "code",
   "execution_count": 20,
   "metadata": {},
   "outputs": [],
   "source": [
    "class Regressao(nn.Module):\n",
    "    def __init__(self,neuronio):\n",
    "        super().__init__()\n",
    "        self.layer_1 = nn.Linear(1,neuronio)\n",
    "        self.layer_3 = nn.Linear(neuronio,1)\n",
    "        self.A_layer = nn.ReLU()\n",
    "\n",
    "    def forward(self, x):\n",
    "        x = self.A_layer(self.layer_1(x))\n",
    "        x = self.A_layer(self.layer_3(x))\n",
    "        return x  "
   ]
  },
  {
   "cell_type": "code",
   "execution_count": 48,
   "metadata": {},
   "outputs": [],
   "source": [
    "class Loss_parametro(nn.Module):\n",
    "    def __init__(self):\n",
    "        super(Loss_parametro, self).__init__()\n",
    "    def forward(self, inputs, targets,outputs):\n",
    "        # mudar de [N,1] para [N]\n",
    "        # função 1° grau: x- x0 -vt = 0\n",
    "        funcao_1_grau = targets - targets[0] - outputs*inputs\n",
    "        loss_solution = tc.mean( abs(funcao_1_grau) )\n",
    "        # podemos impor que independe do input o parametro deve ser igual  \n",
    "        # v_medio = output[:,1].mean()\n",
    "        # loss_const = tc.mean((output[:,1] - v_medio) ** 2)\n",
    "        return loss_solution\n",
    "    \n",
    "class Loss_edo(nn.Module):\n",
    "    def __init__(self,rede_neural,velocidade):\n",
    "        super(Loss_edo, self).__init__()\n",
    "        self.rede = rede_neural\n",
    "        self.v = velocidade\n",
    "        \n",
    "    def forward(self, inputs, targets):\n",
    "        output ,derivadas = tc.autograd.functional.jvp(self.rede ,inputs ,v=tc.ones(len(inputs),1),create_graph=True) # v é um vetor unitario para retorna apenas o jacobiano\n",
    "        # condição inicial x(0)\n",
    "        loss_ic = (output[0] - targets[0])**2\n",
    "        \n",
    "        # dividido pela tamanho do dados de entrada\n",
    "        loss_ic = loss_ic/len(inputs)\n",
    "        # Derivada da função em relação a entrada \n",
    "        # edo : dx/dt = v\n",
    "        # estamos usando [1:] para escluir a condição inicial\n",
    "        loss_edo = tc.mean( (derivadas[1:] - self.v )**2 )\n",
    "\n",
    "        return loss_ic + loss_edo"
   ]
  },
  {
   "cell_type": "markdown",
   "metadata": {},
   "source": [
    "Usando a loss edo "
   ]
  },
  {
   "cell_type": "code",
   "execution_count": 38,
   "metadata": {},
   "outputs": [
    {
     "name": "stdout",
     "output_type": "stream",
     "text": [
      "| Train Loss: 0.003917781636118889 |\n"
     ]
    },
    {
     "data": {
      "image/png": "[encoded data removed]",
      "text/plain": [
       "<Figure size 640x480 with 1 Axes>"
      ]
     },
     "metadata": {},
     "output_type": "display_data"
    }
   ],
   "source": [
    "def eq_movimento(x_0,v_,t_): \n",
    "    return  x_0 + v_*t_\n",
    "\n",
    "# Criando os dados de treino\n",
    "x_train = tc.linspace(0,10,50).reshape(50,1)\n",
    "y_train =  eq_movimento(x_0=0,v_=1,t_=x_train)\n",
    "\n",
    "rede1 = Regressao(20) # rede da função\n",
    "opt1 = tc.optim.Adam(params=rede1.parameters(),lr=0.01)  # rede da função\n",
    "loss_fn1  = Loss_edo(rede1,velocidade=1)\n",
    "\n",
    "epochs = 10000\n",
    "for epoch in range(epochs):\n",
    "    rede1.train()\n",
    "    loss = loss_fn1(x_train, y_train)\n",
    "    opt1.zero_grad()\n",
    "    loss.backward()\n",
    "    opt1.step() \n",
    "\n",
    "#rede 1 é a função\n",
    "loss_fn = nn.MSELoss()\n",
    "rede1.eval()\n",
    "with tc.inference_mode():\n",
    "    prediçao = rede1(x_train)\n",
    "    loss = loss_fn( prediçao,y_train)\n",
    "    print(f\"| Train Loss: {loss} |\")\n",
    "    \n",
    "plt.plot(x_train,y_train,\"k-\" ,label=\"teorico\")\n",
    "plt.plot(x_train, prediçao,\".\",label=\"predição\" )\n",
    "plt.legend()\n",
    "plt.show()  "
   ]
  },
  {
   "cell_type": "code",
   "execution_count": 50,
   "metadata": {},
   "outputs": [
    {
     "name": "stdout",
     "output_type": "stream",
     "text": [
      "| Train Loss: 0.00031880204915069044 |\n",
      "tensor([[0.9623],\n",
      "        [0.9778],\n",
      "        [0.9865],\n",
      "        [0.9951],\n",
      "        [0.9973]])\n"
     ]
    },
    {
     "data": {
      "image/png": "[encoded data removed]",
      "text/plain": [
       "<Figure size 640x480 with 1 Axes>"
      ]
     },
     "metadata": {},
     "output_type": "display_data"
    }
   ],
   "source": [
    "def eq_movimento(x_0,v_,t_): \n",
    "    return  x_0 + v_*t_\n",
    "\n",
    "# Criando os dados de treino\n",
    "x_train = tc.linspace(0,10,20).reshape(20,1)\n",
    "y_train =  eq_movimento(x_0=0,v_=1,t_=x_train)\n",
    "\n",
    "\n",
    "rede2 = Regressao(10) # rede dos parametros \n",
    "opt2 = tc.optim.Adam(params=rede2.parameters(),lr=0.01) # rede dos parametros \n",
    "loss_fn2  = Loss_parametro()\n",
    "\n",
    "epochs = 10000\n",
    "for epoch in range(epochs):\n",
    "    rede2.train()\n",
    "    y_preds = rede2(x_train)\n",
    "    loss = loss_fn2(inputs=x_train,targets=y_train, outputs=y_preds)\n",
    "    opt2.zero_grad()\n",
    "    loss.backward()\n",
    "    opt2.step() \n",
    "    \n",
    "    \n",
    "    rede1.train()\n",
    "    loss = loss_fn1(x_train, y_train)\n",
    "    opt1.zero_grad()\n",
    "    loss.backward()\n",
    "    opt1.step() \n",
    "\n",
    "#rede 2 é a parametro\n",
    "loss_fn = nn.MSELoss()\n",
    "rede2.eval()\n",
    "with tc.inference_mode():\n",
    "    prediçao = rede2(x_train)\n",
    "    loss = loss_fn(y_train[0] + prediçao*x_train,y_train)\n",
    "    print(f\"| Train Loss: {loss} |\")\n",
    "    print(prediçao[:5])\n",
    "plt.plot(x_train,y_train,\"k-\" ,label=\"teorico\")\n",
    "plt.plot(x_train,y_train[0] + prediçao*x_train,\".\",label=\"predição\" )\n",
    "plt.show()  "
   ]
  },
  {
   "cell_type": "markdown",
   "metadata": {},
   "source": [
    "# a =Constante"
   ]
  },
  {
   "cell_type": "code",
   "execution_count": null,
   "metadata": {},
   "outputs": [],
   "source": [
    "def eq_movimento(x_0,v_,a_,t_):\n",
    "    return  x_0 + v_*t_ + a_*t_**2/2\n",
    "\n",
    "t = np.linspace(0,1.4).reshape((-1, 1))    \n",
    "y = eq_movimento(x_0=10,v_=0,a_=-9.81,t_=t)\n",
    "plt.plot(t,y,\".\")\n",
    "plt.show()"
   ]
  },
  {
   "cell_type": "markdown",
   "metadata": {},
   "source": [
    "Regressão linear"
   ]
  },
  {
   "cell_type": "code",
   "execution_count": null,
   "metadata": {},
   "outputs": [],
   "source": [
    "reg = linear_model.LinearRegression()\n",
    "reg.fit(t,y)# FITANDO \n",
    "print(\"a: \",reg.coef_)\n",
    "print(\"b: \",reg.intercept_)\n",
    "\n",
    "plt.plot(t,y,\".\")\n",
    "plt.plot(t,reg.intercept_[0] + reg.coef_[0][0]*t,\".\")\n",
    "plt.show()"
   ]
  },
  {
   "cell_type": "markdown",
   "metadata": {},
   "source": [
    "Decision tree"
   ]
  },
  {
   "cell_type": "code",
   "execution_count": null,
   "metadata": {},
   "outputs": [],
   "source": [
    "from sklearn.tree import DecisionTreeRegressor\n",
    "\n",
    "RT = DecisionTreeRegressor(criterion = \"squared_error\")\n",
    "RT.fit(t,y)# FITANDO \n",
    "\n",
    "\n",
    "predição = RT.predict(t)\n",
    "\n",
    "plt.plot(t,y,\"-\")\n",
    "plt.plot(t,predição,\".\")\n",
    "\n",
    "plt.show()"
   ]
  },
  {
   "cell_type": "markdown",
   "metadata": {},
   "source": [
    "Regressaõ polinomia "
   ]
  },
  {
   "cell_type": "code",
   "execution_count": null,
   "metadata": {},
   "outputs": [],
   "source": [
    "from sklearn.preprocessing import PolynomialFeatures\n",
    "from sklearn import linear_model\n",
    "\n",
    "poly = PolynomialFeatures(degree=2)\n",
    "\n",
    "t_poly = poly.fit_transform(t)\n",
    "\n",
    "R = linear_model.LinearRegression()\n",
    "train_y_ = R.fit(t_poly, y)\n",
    "# The coefficients\n",
    "print ('Coefficients: ', R.coef_)\n",
    "print ('b: ',R.intercept_)\n",
    "\n",
    "predição = R.intercept_[0]+ R.coef_[0][1]*t+ R.coef_[0][2]*t**2\n",
    "plt.plot(t,y,\"-\")\n",
    "plt.plot(t,predição,\".\")\n",
    "\n",
    "plt.show()"
   ]
  },
  {
   "cell_type": "markdown",
   "metadata": {},
   "source": [
    "Rede neural "
   ]
  },
  {
   "cell_type": "code",
   "execution_count": 51,
   "metadata": {},
   "outputs": [
    {
     "data": {
      "image/png": "[encoded data removed]",
      "text/plain": [
       "<Figure size 640x480 with 1 Axes>"
      ]
     },
     "metadata": {},
     "output_type": "display_data"
    }
   ],
   "source": [
    "def eq_movimento(x_0,v_,a_,t_):\n",
    "    return  x_0 + v_*t_ + a_*t_**2/2\n",
    "\n",
    "\n",
    "# Criando os dados de treino\n",
    "x_train = tc.linspace(0,1.4,50).reshape(50,1)\n",
    "y_train =  eq_movimento(x_0=10,v_=0,a_=-9.81,t_=x_train)\n",
    "\n",
    "# Visualizando os dados de treino\n",
    "\n",
    "plt.plot(x_train,y_train,\"k.\" )\n",
    "plt.show()"
   ]
  },
  {
   "cell_type": "markdown",
   "metadata": {},
   "source": [
    "Aprendendo a função com os dados "
   ]
  },
  {
   "cell_type": "code",
   "execution_count": 53,
   "metadata": {},
   "outputs": [
    {
     "name": "stdout",
     "output_type": "stream",
     "text": [
      "| Train Loss: 0.0025445977225899696 | \n"
     ]
    },
    {
     "data": {
      "image/png": "[encoded data removed]",
      "text/plain": [
       "<Figure size 640x480 with 1 Axes>"
      ]
     },
     "metadata": {},
     "output_type": "display_data"
    }
   ],
   "source": [
    "# Construindo o modelo\n",
    "class Regressao(nn.Module):\n",
    "    def __init__(self,neuronio):\n",
    "        super().__init__()\n",
    "        self.layer_1 = nn.Linear(1,neuronio)\n",
    "        self.layer_3 = nn.Linear(neuronio,1)\n",
    "        self.A_layer = nn.ReLU()\n",
    "        \n",
    "    def forward(self, x):\n",
    "        x = self.A_layer(self.layer_1(x))\n",
    "        x = self.A_layer(self.layer_3(x))\n",
    "        return x\n",
    "    \n",
    "model = Regressao(neuronio=30)\n",
    "loss_fn = nn.MSELoss()\n",
    "optimizer = tc.optim.Adam(params=model.parameters(),lr=0.01)\n",
    "\n",
    "epochs = 10000\n",
    "for epoch in range(epochs):\n",
    "    model.train()\n",
    "    y_preds = model(x_train)\n",
    "    loss = loss_fn(y_preds, y_train)\n",
    "    optimizer.zero_grad()\n",
    "    loss.backward()\n",
    "    optimizer.step()\n",
    "\n",
    "model.eval()\n",
    "with tc.inference_mode():\n",
    "    y_preds_test = model(x_train)\n",
    "    loss = loss_fn(y_preds_test,y_train)\n",
    "    print(f\"| Train Loss: {loss} | \")\n",
    "\n",
    "plt.plot(x_train,y_train,\"-\" )\n",
    "plt.plot(x_train,y_preds_test,\"k.\" )\n",
    "plt.show()"
   ]
  },
  {
   "cell_type": "markdown",
   "metadata": {},
   "source": [
    "aprendendo o parametro da equação(Aceleração)"
   ]
  },
  {
   "cell_type": "code",
   "execution_count": 54,
   "metadata": {},
   "outputs": [
    {
     "name": "stdout",
     "output_type": "stream",
     "text": [
      "| Train Loss: 1.3209441873662797e-10 | \n"
     ]
    },
    {
     "data": {
      "image/png": "[encoded data removed]",
      "text/plain": [
       "<Figure size 640x480 with 1 Axes>"
      ]
     },
     "metadata": {},
     "output_type": "display_data"
    }
   ],
   "source": [
    "class Regressao(nn.Module):\n",
    "    def __init__(self,neuronio):\n",
    "        super().__init__()\n",
    "        self.layer_1 = nn.Linear(1,neuronio)\n",
    "        self.layer_2 = nn.Linear(neuronio,neuronio)\n",
    "        self.layer_3 = nn.Linear(neuronio,2)\n",
    "        self.A_layer = nn.ReLU()\n",
    "        self.B_layer = nn.Tanh()  \n",
    "        \n",
    "    def forward(self, x):\n",
    "        x = self.B_layer(self.layer_1(x))\n",
    "        x = self.A_layer(self.layer_2(x))\n",
    "        #x = self.A_layer(self.layer_3(x))\n",
    "        x = self.layer_3(x)\n",
    "        return x\n",
    "class CustomLoss(nn.Module):\n",
    "    def __init__(self,x_0,v_0):\n",
    "        super().__init__()\n",
    "        self.x0 = x_0\n",
    "        self.v0 = v_0\n",
    "        \n",
    "    def forward(self, outputs, y_,t_):\n",
    "        # talvez adicionar a derivada \n",
    "        # y  =  x_0 + v_*t_ + a_*t_**2/2\n",
    "        return 1*tc.mean((y_ - self.x0 -self.v0*t_ - outputs[0,1]*t_**2/2)** 2) # +1*tc.mean( (y_- outputs[:,0])**2 )\n",
    "    \n",
    "model = Regressao(neuronio=2)\n",
    "loss_fn = CustomLoss(x_0=10,v_0=0)\n",
    "optimizer = tc.optim.Adam(params=model.parameters(),lr=0.01)\n",
    "\n",
    "epochs = 5000\n",
    "for epoch in range(epochs):\n",
    "    model.train()\n",
    "\n",
    "    y_preds = model(x_train)\n",
    "    loss = loss_fn(y_preds, y_train,x_train)\n",
    "    optimizer.zero_grad()\n",
    "    loss.backward()\n",
    "    optimizer.step()\n",
    "\n",
    "model.eval()\n",
    "\n",
    "with tc.inference_mode():\n",
    "    y_preds_test = model(x_train)\n",
    "    loss = loss_fn(y_preds_test,y_train,x_train)\n",
    "\n",
    "    print(f\"| Train Loss: {loss} | \")\n",
    "\n",
    "plt.plot(x_train,y_train,\"-\", label=\"teorico\")\n",
    "plt.plot(x_train,10 + y_preds_test[0,1]*x_train**2/2,\"k--\", label=f\"a:{tc.round(y_preds_test[0,1],decimals=2)}\" )\n",
    "#plt.plot(x_train,y_preds_test[:,0],\"r--\", label=\"funçãoda rede\" )\n",
    "plt.legend()\n",
    "plt.show()"
   ]
  }
 ],
 "metadata": {
  "kernelspec": {
   "display_name": "Python 3",
   "language": "python",
   "name": "python3"
  },
  "language_info": {
   "codemirror_mode": {
    "name": "ipython",
    "version": 3
   },
   "file_extension": ".py",
   "mimetype": "text/x-python",
   "name": "python",
   "nbconvert_exporter": "python",
   "pygments_lexer": "ipython3",
   "version": "3.10.13"
  }
 },
 "nbformat": 4,
 "nbformat_minor": 2
}
